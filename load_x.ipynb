{
 "cells": [
  {
   "cell_type": "code",
   "execution_count": 1,
   "metadata": {},
   "outputs": [],
   "source": [
    "import numpy as np\n",
    "import pandas as pd\n",
    "\n",
    "#Code to load the database\n",
    "directory = '/Users/sofiagray/Documents/uw/spring 2023/521/project/final_Y_X_v3.csv'\n",
    "Database = pd.read_csv(directory).set_index('time')\n",
    "\n",
    "#to reduce the database to jan-jun run:\n",
    "#Database = Database.loc['2022-01':'2022-06'].drop(['jul', 'aug', 'sept', 'oct', 'nov', 'dec'], axis = 1)\n",
    "\n",
    "#to reduce the database to jul-dec run:\n",
    "#Database = Database.loc['2022-07':'2022-12'].drop(['jan', 'feb', 'mar', 'apr', 'may', 'june'], axis = 1)\n",
    "\n",
    "y = Database.iloc[:, 0]\n",
    "y_class = Database.iloc[:, 1]\n",
    "y_binary = Database.iloc[:, 2]\n",
    "\n",
    "X = Database.iloc[:, 3:]\n",
    "\n",
    "index_train = X.iloc[int(np.ceil(len(y)*0.8))].name\n",
    "index_valid = X.iloc[int(np.ceil(len(y)*0.9))].name\n",
    "\n",
    "X_train = X.loc[:index_train]\n",
    "y_train = y.loc[:index_train]\n",
    "y_class_train = y_class.loc[:index_train]\n",
    "y_binary_train = y_binary.loc[:index_train]\n",
    "\n",
    "X_valid = X.loc[index_train:index_valid]\n",
    "y_valid = y.loc[index_train:index_valid]\n",
    "y_class_valid = y_class.loc[index_train:index_valid]\n",
    "y_binary_valid = y_binary.loc[index_train:index_valid]\n",
    "\n",
    "X_test = X.loc[index_valid:]\n",
    "y_test = y.loc[index_valid:]\n",
    "y_class_test = y_class.loc[index_valid:]\n",
    "y_binary_test = y_binary.loc[index_valid:]"
   ]
  },
  {
   "cell_type": "code",
   "execution_count": null,
   "metadata": {},
   "outputs": [],
   "source": [
    "#Now implement the models. Feel free to drop any features"
   ]
  },
  {
   "cell_type": "code",
   "execution_count": null,
   "metadata": {},
   "outputs": [],
   "source": []
  },
  {
   "cell_type": "code",
   "execution_count": null,
   "metadata": {},
   "outputs": [],
   "source": []
  }
 ],
 "metadata": {
  "kernelspec": {
   "display_name": "Python 3 (ipykernel)",
   "language": "python",
   "name": "python3"
  },
  "language_info": {
   "codemirror_mode": {
    "name": "ipython",
    "version": 3
   },
   "file_extension": ".py",
   "mimetype": "text/x-python",
   "name": "python",
   "nbconvert_exporter": "python",
   "pygments_lexer": "ipython3",
   "version": "3.10.9"
  }
 },
 "nbformat": 4,
 "nbformat_minor": 4
}
